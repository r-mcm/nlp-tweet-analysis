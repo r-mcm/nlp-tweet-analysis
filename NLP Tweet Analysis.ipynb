{
 "cells": [
  {
   "cell_type": "code",
   "execution_count": 12,
   "id": "cd137c39",
   "metadata": {},
   "outputs": [],
   "source": [
    "import pandas as pd\n",
    "from sklearn.model_selection import train_test_split\n",
    "from sklearn.feature_extraction.text import CountVectorizer\n",
    "from sklearn.linear_model import LogisticRegression\n",
    "from sklearn.metrics import plot_confusion_matrix"
   ]
  },
  {
   "cell_type": "code",
   "execution_count": 16,
   "id": "ba4a0320",
   "metadata": {},
   "outputs": [],
   "source": [
    "tweets = pd.read_csv('./TweetData1.csv')"
   ]
  },
  {
   "cell_type": "code",
   "execution_count": 17,
   "id": "8afc5655",
   "metadata": {},
   "outputs": [
    {
     "data": {
      "text/html": [
       "<div>\n",
       "<style scoped>\n",
       "    .dataframe tbody tr th:only-of-type {\n",
       "        vertical-align: middle;\n",
       "    }\n",
       "\n",
       "    .dataframe tbody tr th {\n",
       "        vertical-align: top;\n",
       "    }\n",
       "\n",
       "    .dataframe thead th {\n",
       "        text-align: right;\n",
       "    }\n",
       "</style>\n",
       "<table border=\"1\" class=\"dataframe\">\n",
       "  <thead>\n",
       "    <tr style=\"text-align: right;\">\n",
       "      <th></th>\n",
       "      <th>tweetid</th>\n",
       "      <th>datetime</th>\n",
       "      <th>twitterhandle</th>\n",
       "      <th>tweetcontent</th>\n",
       "      <th>accountname</th>\n",
       "      <th>region</th>\n",
       "      <th>portfolio</th>\n",
       "      <th>subportfolio</th>\n",
       "    </tr>\n",
       "  </thead>\n",
       "  <tbody>\n",
       "    <tr>\n",
       "      <th>0</th>\n",
       "      <td>1.345310e+18</td>\n",
       "      <td>2021-01-02 10:10:40+00:00</td>\n",
       "      <td>ericsson</td>\n",
       "      <td>Fast, accurate and sustainable #5G #Innovation...</td>\n",
       "      <td>Ericsson</td>\n",
       "      <td>NCE</td>\n",
       "      <td>NEE</td>\n",
       "      <td>Telecommunications</td>\n",
       "    </tr>\n",
       "    <tr>\n",
       "      <th>1</th>\n",
       "      <td>1.346410e+18</td>\n",
       "      <td>2021-01-05 10:50:21+00:00</td>\n",
       "      <td>Nestle</td>\n",
       "      <td>A new take on breakfast has hit shelves in Ita...</td>\n",
       "      <td>NESTLE</td>\n",
       "      <td>NCE</td>\n",
       "      <td>DACH</td>\n",
       "      <td>Retail</td>\n",
       "    </tr>\n",
       "    <tr>\n",
       "      <th>2</th>\n",
       "      <td>1.346800e+18</td>\n",
       "      <td>2021-01-06 12:30:00+00:00</td>\n",
       "      <td>ericsson</td>\n",
       "      <td>Undeniably, #IoT is changing how we live and w...</td>\n",
       "      <td>Ericsson</td>\n",
       "      <td>NCE</td>\n",
       "      <td>NEE</td>\n",
       "      <td>Telecommunications</td>\n",
       "    </tr>\n",
       "    <tr>\n",
       "      <th>3</th>\n",
       "      <td>1.347050e+18</td>\n",
       "      <td>2021-01-07 05:00:00+00:00</td>\n",
       "      <td>ericsson</td>\n",
       "      <td>What can you do to boost employee #innovation ...</td>\n",
       "      <td>Ericsson</td>\n",
       "      <td>NCE</td>\n",
       "      <td>NEE</td>\n",
       "      <td>Telecommunications</td>\n",
       "    </tr>\n",
       "    <tr>\n",
       "      <th>4</th>\n",
       "      <td>1.347130e+18</td>\n",
       "      <td>2021-01-07 10:25:12+00:00</td>\n",
       "      <td>MOFUAE</td>\n",
       "      <td>#MOFUAE adheres to the standards on the use of...</td>\n",
       "      <td>MINISTRY OF FINANCE - UAE</td>\n",
       "      <td>UKIIMEA</td>\n",
       "      <td>MEA</td>\n",
       "      <td>Public Sector</td>\n",
       "    </tr>\n",
       "  </tbody>\n",
       "</table>\n",
       "</div>"
      ],
      "text/plain": [
       "        tweetid                   datetime twitterhandle  \\\n",
       "0  1.345310e+18  2021-01-02 10:10:40+00:00      ericsson   \n",
       "1  1.346410e+18  2021-01-05 10:50:21+00:00        Nestle   \n",
       "2  1.346800e+18  2021-01-06 12:30:00+00:00      ericsson   \n",
       "3  1.347050e+18  2021-01-07 05:00:00+00:00      ericsson   \n",
       "4  1.347130e+18  2021-01-07 10:25:12+00:00        MOFUAE   \n",
       "\n",
       "                                        tweetcontent  \\\n",
       "0  Fast, accurate and sustainable #5G #Innovation...   \n",
       "1  A new take on breakfast has hit shelves in Ita...   \n",
       "2  Undeniably, #IoT is changing how we live and w...   \n",
       "3  What can you do to boost employee #innovation ...   \n",
       "4  #MOFUAE adheres to the standards on the use of...   \n",
       "\n",
       "                 accountname   region portfolio        subportfolio  \n",
       "0                  Ericsson       NCE       NEE  Telecommunications  \n",
       "1                     NESTLE      NCE      DACH              Retail  \n",
       "2                  Ericsson       NCE       NEE  Telecommunications  \n",
       "3                  Ericsson       NCE       NEE  Telecommunications  \n",
       "4  MINISTRY OF FINANCE - UAE  UKIIMEA       MEA       Public Sector  "
      ]
     },
     "execution_count": 17,
     "metadata": {},
     "output_type": "execute_result"
    }
   ],
   "source": [
    "tweets.head()"
   ]
  },
  {
   "cell_type": "code",
   "execution_count": 18,
   "id": "b299bb7a",
   "metadata": {},
   "outputs": [],
   "source": [
    "features = tweets.tweetcontent\n",
    "target = tweets.subportfolio"
   ]
  },
  {
   "cell_type": "code",
   "execution_count": 19,
   "id": "227886a8",
   "metadata": {},
   "outputs": [],
   "source": [
    "X_train, X_test, y_train, y_test = train_test_split(features, target, test_size=0.33)"
   ]
  },
  {
   "cell_type": "code",
   "execution_count": 21,
   "id": "d5a8761c",
   "metadata": {},
   "outputs": [],
   "source": [
    "# instantiate a CountVectorizer object\n",
    "vect = CountVectorizer()\n",
    "\n",
    "X_train_dtm = vect.fit_transform(X_train)\n",
    "X_test_dtm = vect.transform(X_test)"
   ]
  },
  {
   "cell_type": "code",
   "execution_count": 22,
   "id": "0e5e942f",
   "metadata": {},
   "outputs": [
    {
     "name": "stdout",
     "output_type": "stream",
     "text": [
      "['00', '000', '00am', '05dz7hjwlh', '06gqp7rwkf', '0axp69b51v', '0hflmg2ms6', '0lvjnl4aaq', '0no8uuiaya', '0o9zudxwar', '0rheg6cklu', '0s3afwofgq', '0tffrt0uis', '0ubapwphbc', '0y80d3oays', '0yjyvxxscj', '0ysc4l8tbk', '10', '100', '100th']\n",
      "['zhao', 'zhb7hdlhas', 'zhcykr4vah', 'zhhllogeim', 'zioq7svpqm', 'zipgkihukb', 'zj3a69xp2w', 'zjqqslye0n', 'zo8beugmre', 'zones', 'zpqzmq5akm', 'zrerlxblwv', 'zrrdgp5o8q', 'ztdfmxcbqa', 'ztpmgh7ptt', 'zu3bawmc7s', 'zx6ovbnuom', 'zxdjbvtuv9', 'zxm242ecgu', 'zysn751jew']\n"
     ]
    }
   ],
   "source": [
    "# can get the token names from the vectorizer once it's fit\n",
    "print(vect.get_feature_names()[:20])\n",
    "print(vect.get_feature_names()[-20:])"
   ]
  },
  {
   "cell_type": "code",
   "execution_count": 23,
   "id": "1d5aa123",
   "metadata": {},
   "outputs": [
    {
     "data": {
      "text/plain": [
       "(506, 4047)"
      ]
     },
     "execution_count": 23,
     "metadata": {},
     "output_type": "execute_result"
    }
   ],
   "source": [
    "X_train_dtm.shape"
   ]
  },
  {
   "cell_type": "code",
   "execution_count": 24,
   "id": "abe3f187",
   "metadata": {},
   "outputs": [
    {
     "name": "stdout",
     "output_type": "stream",
     "text": [
      "720    #Cloud Vorreiter in der Bankenbranche: Mit uns...\n",
      "90     Financial #innovations require the highest lev...\n",
      "21     We are working alongside the US Navy to furthe...\n",
      "Name: tweetcontent, dtype: object \n",
      " ['Telecommunications' 'Public Sector' 'Manufacturing']\n"
     ]
    },
    {
     "data": {
      "text/plain": [
       "0.764"
      ]
     },
     "execution_count": 24,
     "metadata": {},
     "output_type": "execute_result"
    }
   ],
   "source": [
    "lr = LogisticRegression(max_iter=500)\n",
    "\n",
    "lr.fit(X_train_dtm, y_train)\n",
    "y_pred = lr.predict(X_test_dtm)\n",
    "print(X_test[:3], '\\n', y_pred[:3])\n",
    "\n",
    "lr.score(X_test_dtm, y_test)"
   ]
  },
  {
   "cell_type": "code",
   "execution_count": 25,
   "id": "ab7ad404",
   "metadata": {},
   "outputs": [
    {
     "data": {
      "text/plain": [
       "Telecommunications               0.182540\n",
       "Retail                           0.144180\n",
       "Public Sector                    0.141534\n",
       "Chemicals & Agriculture          0.109788\n",
       "Manufacturing                    0.099206\n",
       "IT & Digital Transformation      0.099206\n",
       "Enterprise Software              0.067460\n",
       "Energy Utility & Tech.           0.064815\n",
       "BCM                              0.031746\n",
       "Insurance                        0.026455\n",
       "Transportation                   0.011905\n",
       "Aerospace Defence Security       0.010582\n",
       "Electronics Health Technology    0.010582\n",
       "Name: subportfolio, dtype: float64"
      ]
     },
     "execution_count": 25,
     "metadata": {},
     "output_type": "execute_result"
    }
   ],
   "source": [
    "# check baseline accuracy\n",
    "tweets.subportfolio.value_counts(normalize=True)"
   ]
  },
  {
   "cell_type": "code",
   "execution_count": 28,
   "id": "487e4d2a",
   "metadata": {},
   "outputs": [
    {
     "data": {
      "image/png": "[encoded data removed]",
      "text/plain": [
       "<Figure size 640x480 with 2 Axes>"
      ]
     },
     "metadata": {},
     "output_type": "display_data"
    }
   ],
   "source": [
    "import matplotlib.pyplot as plt\n",
    "plt.style.use('default')\n",
    "plot_confusion_matrix(lr, X_test_dtm, y_test, xticks_rotation='vertical');"
   ]
  },
  {
   "cell_type": "markdown",
   "id": "4295d667",
   "metadata": {},
   "source": [
    "## Latent Dirichlet Allocation"
   ]
  },
  {
   "cell_type": "code",
   "execution_count": 29,
   "id": "c57fa7ff",
   "metadata": {},
   "outputs": [],
   "source": [
    "from sklearn.decomposition import LatentDirichletAllocation"
   ]
  },
  {
   "cell_type": "code",
   "execution_count": 64,
   "id": "0934eb0a",
   "metadata": {},
   "outputs": [],
   "source": [
    "tweets = pd.read_csv('./TweetData1.csv')"
   ]
  },
  {
   "cell_type": "code",
   "execution_count": 49,
   "id": "7031e388",
   "metadata": {},
   "outputs": [],
   "source": [
    "corpus = tweets.tweetcontent.values"
   ]
  },
  {
   "cell_type": "code",
   "execution_count": 46,
   "id": "6080f042",
   "metadata": {},
   "outputs": [],
   "source": [
    "vect = CountVectorizer(max_df=0.90, min_df=3, ngram_range=(1, 2), max_features=2000, stop_words='english')"
   ]
  },
  {
   "cell_type": "code",
   "execution_count": 51,
   "id": "a513aabe",
   "metadata": {},
   "outputs": [],
   "source": [
    "dtm = vect.fit_transform(corpus)"
   ]
  },
  {
   "cell_type": "code",
   "execution_count": 57,
   "id": "18721465",
   "metadata": {},
   "outputs": [
    {
     "data": {
      "text/plain": [
       "LatentDirichletAllocation(n_components=5)"
      ]
     },
     "execution_count": 57,
     "metadata": {},
     "output_type": "execute_result"
    }
   ],
   "source": [
    "lda = LatentDirichletAllocation(n_components=5)\n",
    "lda.fit(dtm)"
   ]
  },
  {
   "cell_type": "code",
   "execution_count": 58,
   "id": "2b7447d4",
   "metadata": {},
   "outputs": [
    {
     "data": {
      "text/plain": [
       "array([[0.20000126, 0.20000106, 2.19304539, ..., 2.34049142, 0.20000031,\n",
       "        0.20000031],\n",
       "       [7.19829006, 5.19999329, 0.20194148, ..., 0.20068198, 0.20000035,\n",
       "        0.20000035],\n",
       "       [0.20000254, 0.20000208, 0.2073528 , ..., 5.05671098, 3.19999818,\n",
       "        3.19999818],\n",
       "       [0.20170496, 0.2000026 , 0.2000114 , ..., 0.20000909, 0.20000085,\n",
       "        0.20000085],\n",
       "       [0.20000118, 0.20000096, 1.19764894, ..., 0.20210652, 0.2000003 ,\n",
       "        0.2000003 ]])"
      ]
     },
     "execution_count": 58,
     "metadata": {},
     "output_type": "execute_result"
    }
   ],
   "source": [
    "# this is a list of how closely each word aligns with each topic\n",
    "lda.components_"
   ]
  },
  {
   "cell_type": "code",
   "execution_count": 61,
   "id": "3de5c304",
   "metadata": {},
   "outputs": [],
   "source": [
    "# this will let us view the most important words for each topic, as determined by LDA\n",
    "\n",
    "def display_topics(model, feature_names, no_top_words):\n",
    "    for index, topic in enumerate(model.components_):\n",
    "        print(f\"Topic {index}\")\n",
    "        print(\", \".join([feature_names[i] for i in topic.argsort()[:-no_top_words - 1:-1]]))\n",
    "\n",
    "no_top_words = 15"
   ]
  },
  {
   "cell_type": "code",
   "execution_count": 62,
   "id": "9b67b1e0",
   "metadata": {},
   "outputs": [
    {
     "name": "stdout",
     "output_type": "stream",
     "text": [
      "Topic 0\n",
      "https, innovation, innovative, idea, amp, read, support, virtual, defence, new, world, agency, look, colleagues, submit\n",
      "Topic 1\n",
      "https, innovation, learn, 5g, new, register, today, innovative, amp, future, business, register https, june, join, product\n",
      "Topic 2\n",
      "https, innovation, innovative, amp, sap, help, innovators, industry, new, customers, global, challenge, science, future, technology\n",
      "Topic 3\n",
      "https, use, packaging, new, solutions, innovation, amp, business, innovative, 5g, plastics, systems, models, amp innovative, reduce\n",
      "Topic 4\n",
      "https, innovation, based, new, innovative, learn, plant, discover, plant based, nestlé, innovation https, plantbased, technology, learn https, 2021\n"
     ]
    }
   ],
   "source": [
    "display_topics(lda, vect.get_feature_names(), no_top_words)"
   ]
  },
  {
   "cell_type": "markdown",
   "id": "3762f0ab",
   "metadata": {},
   "source": [
    "#### Larger Dataset"
   ]
  },
  {
   "cell_type": "code",
   "execution_count": 65,
   "id": "dae99b25",
   "metadata": {},
   "outputs": [],
   "source": [
    "bigtweets = pd.read_csv('./bigtweets.csv')"
   ]
  },
  {
   "cell_type": "code",
   "execution_count": 67,
   "id": "e11b27b8",
   "metadata": {},
   "outputs": [
    {
     "data": {
      "text/html": [
       "<div>\n",
       "<style scoped>\n",
       "    .dataframe tbody tr th:only-of-type {\n",
       "        vertical-align: middle;\n",
       "    }\n",
       "\n",
       "    .dataframe tbody tr th {\n",
       "        vertical-align: top;\n",
       "    }\n",
       "\n",
       "    .dataframe thead th {\n",
       "        text-align: right;\n",
       "    }\n",
       "</style>\n",
       "<table border=\"1\" class=\"dataframe\">\n",
       "  <thead>\n",
       "    <tr style=\"text-align: right;\">\n",
       "      <th></th>\n",
       "      <th>TweetId</th>\n",
       "      <th>Datetime</th>\n",
       "      <th>TwitterHandle</th>\n",
       "      <th>Tweetcontent</th>\n",
       "    </tr>\n",
       "  </thead>\n",
       "  <tbody>\n",
       "    <tr>\n",
       "      <th>0</th>\n",
       "      <td>1.465100e+18</td>\n",
       "      <td>2021-11-28 23:26:06+00:00</td>\n",
       "      <td>VW</td>\n",
       "      <td>@GiggsyTheCorgi Hi there, we hope you were abl...</td>\n",
       "    </tr>\n",
       "    <tr>\n",
       "      <th>1</th>\n",
       "      <td>1.465100e+18</td>\n",
       "      <td>2021-11-28 23:27:10+00:00</td>\n",
       "      <td>VW</td>\n",
       "      <td>@breebousley13 Hi Aubrey, we can understand ho...</td>\n",
       "    </tr>\n",
       "    <tr>\n",
       "      <th>2</th>\n",
       "      <td>1.465150e+18</td>\n",
       "      <td>2021-11-29 03:02:53+00:00</td>\n",
       "      <td>Airbus</td>\n",
       "      <td>Congratulations 🎉 @CebuPacificAir on the deliv...</td>\n",
       "    </tr>\n",
       "    <tr>\n",
       "      <th>3</th>\n",
       "      <td>1.465190e+18</td>\n",
       "      <td>2021-11-29 05:22:06+00:00</td>\n",
       "      <td>SAP</td>\n",
       "      <td>Experience:💸 @SAPAriba for direct and indirect...</td>\n",
       "    </tr>\n",
       "    <tr>\n",
       "      <th>4</th>\n",
       "      <td>1.465210e+18</td>\n",
       "      <td>2021-11-29 06:33:08+00:00</td>\n",
       "      <td>Philips</td>\n",
       "      <td>@SOOOOOMA______ Good morningThank you for your...</td>\n",
       "    </tr>\n",
       "  </tbody>\n",
       "</table>\n",
       "</div>"
      ],
      "text/plain": [
       "        TweetId                   Datetime TwitterHandle  \\\n",
       "0  1.465100e+18  2021-11-28 23:26:06+00:00            VW   \n",
       "1  1.465100e+18  2021-11-28 23:27:10+00:00            VW   \n",
       "2  1.465150e+18  2021-11-29 03:02:53+00:00        Airbus   \n",
       "3  1.465190e+18  2021-11-29 05:22:06+00:00           SAP   \n",
       "4  1.465210e+18  2021-11-29 06:33:08+00:00       Philips   \n",
       "\n",
       "                                        Tweetcontent  \n",
       "0  @GiggsyTheCorgi Hi there, we hope you were abl...  \n",
       "1  @breebousley13 Hi Aubrey, we can understand ho...  \n",
       "2  Congratulations 🎉 @CebuPacificAir on the deliv...  \n",
       "3  Experience:💸 @SAPAriba for direct and indirect...  \n",
       "4  @SOOOOOMA______ Good morningThank you for your...  "
      ]
     },
     "execution_count": 67,
     "metadata": {},
     "output_type": "execute_result"
    }
   ],
   "source": [
    "bigtweets.head()"
   ]
  },
  {
   "cell_type": "code",
   "execution_count": 68,
   "id": "95bfdb38",
   "metadata": {},
   "outputs": [],
   "source": [
    "corpus = bigtweets.Tweetcontent.values"
   ]
  },
  {
   "cell_type": "code",
   "execution_count": 69,
   "id": "8755f942",
   "metadata": {},
   "outputs": [],
   "source": [
    "vect = CountVectorizer(max_df=0.90, min_df=3, ngram_range=(1, 2), max_features=2000, stop_words='english')"
   ]
  },
  {
   "cell_type": "code",
   "execution_count": 70,
   "id": "de0c436c",
   "metadata": {},
   "outputs": [],
   "source": [
    "dtm = vect.fit_transform(corpus)"
   ]
  },
  {
   "cell_type": "code",
   "execution_count": 75,
   "id": "39938547",
   "metadata": {},
   "outputs": [
    {
     "data": {
      "text/plain": [
       "LatentDirichletAllocation()"
      ]
     },
     "execution_count": 75,
     "metadata": {},
     "output_type": "execute_result"
    }
   ],
   "source": [
    "lda = LatentDirichletAllocation(n_components=10)\n",
    "lda.fit(dtm)"
   ]
  },
  {
   "cell_type": "code",
   "execution_count": 76,
   "id": "e485dc48",
   "metadata": {},
   "outputs": [
    {
     "data": {
      "text/plain": [
       "array([[ 0.1       ,  0.1000011 ,  0.10000019, ...,  0.1       ,\n",
       "         0.1       ,  0.1       ],\n",
       "       [ 0.10000307,  0.10000045,  0.10000013, ...,  0.1       ,\n",
       "         0.1       ,  0.1       ],\n",
       "       [ 0.10000425,  0.10000308,  0.10002739, ...,  0.1       ,\n",
       "         0.1       ,  0.1       ],\n",
       "       ...,\n",
       "       [ 0.10005434, 26.90596179,  0.10001279, ..., 10.09999899,\n",
       "        13.09969445, 11.1       ],\n",
       "       [ 0.10000993,  0.10002441,  0.10001259, ...,  0.10000048,\n",
       "         0.1       ,  0.1       ],\n",
       "       [21.09989266,  0.10000553, 39.63972074, ...,  0.1       ,\n",
       "         0.1       ,  0.1       ]])"
      ]
     },
     "execution_count": 76,
     "metadata": {},
     "output_type": "execute_result"
    }
   ],
   "source": [
    "# this is a list of how closely each word aligns with each topic\n",
    "lda.components_"
   ]
  },
  {
   "cell_type": "code",
   "execution_count": 77,
   "id": "c5b80693",
   "metadata": {},
   "outputs": [],
   "source": [
    "# this will let us view the most important words for each topic, as determined by LDA\n",
    "\n",
    "def display_topics(model, feature_names, no_top_words):\n",
    "    for index, topic in enumerate(model.components_):\n",
    "        print(f\"Topic {index}\")\n",
    "        print(\", \".join([feature_names[i] for i in topic.argsort()[:-no_top_words - 1:-1]]))\n",
    "\n",
    "no_top_words = 15"
   ]
  },
  {
   "cell_type": "code",
   "execution_count": 78,
   "id": "b5367daa",
   "metadata": {
    "scrolled": true
   },
   "outputs": [
    {
     "name": "stdout",
     "output_type": "stream",
     "text": [
      "Topic 0\n",
      "reaching, thank, sharing, vw, bmw, thanks, social, recommend, help, hello, order, information, thanks sharing, need, happy\n",
      "Topic 1\n",
      "https, covid, hi, 19, try, covid 19, know, let, uk, let know, given, booster, delay, vaccine, nicola\n",
      "Topic 2\n",
      "hi, sorry, dm, address, number, details, account, team, help, look, eonhelp, hear, ll, https, able\n",
      "Topic 3\n",
      "hi, thank, message, contact, hello, send, https, soon, team, hear, sorry, help, thanks, link, customer\n",
      "Topic 4\n",
      "https, new, year, amp, christmas, covid19, support, people, day, booster, learn, help, uk, today, microfocus\n",
      "Topic 5\n",
      "https, free, care, feel, information, feel free, imaginepossible, new, future, change, read, help, 5g, know, 2021\n",
      "Topic 6\n",
      "hi, sorry, dm, hear, card, sorry hear, thanks, ve, account, details, ll, having, branch, send, able\n",
      "Topic 7\n",
      "https, sie, die, wir, der, und, team, في, 0345, replied, banking, المالية, den, على, من\n",
      "Topic 8\n",
      "https, amp, service, services, 2022, ve, help, thanks, website, able, mofuae, digital, report, read, federal\n",
      "Topic 9\n",
      "touch, getting, thanks, getting touch, thanks getting, hi, app, banking, der, mobile, 0345, helps, online, hope helps, bei\n"
     ]
    }
   ],
   "source": [
    "display_topics(lda, vect.get_feature_names(), no_top_words)"
   ]
  },
  {
   "cell_type": "markdown",
   "id": "7ab2ab96",
   "metadata": {},
   "source": [
    "### Compare innovation and non innovation tweets"
   ]
  },
  {
   "cell_type": "markdown",
   "id": "ea30f3b5",
   "metadata": {},
   "source": [
    "take a string and return True if contains innovation, false otherwise. use that function to make a new column in pandas using .apply"
   ]
  },
  {
   "cell_type": "code",
   "execution_count": 121,
   "id": "d38fc2db",
   "metadata": {},
   "outputs": [],
   "source": [
    "bigtweets = pd.read_csv('./bigtweets.csv')"
   ]
  },
  {
   "cell_type": "code",
   "execution_count": 109,
   "id": "4e34b35c",
   "metadata": {},
   "outputs": [
    {
     "data": {
      "text/html": [
       "<div>\n",
       "<style scoped>\n",
       "    .dataframe tbody tr th:only-of-type {\n",
       "        vertical-align: middle;\n",
       "    }\n",
       "\n",
       "    .dataframe tbody tr th {\n",
       "        vertical-align: top;\n",
       "    }\n",
       "\n",
       "    .dataframe thead th {\n",
       "        text-align: right;\n",
       "    }\n",
       "</style>\n",
       "<table border=\"1\" class=\"dataframe\">\n",
       "  <thead>\n",
       "    <tr style=\"text-align: right;\">\n",
       "      <th></th>\n",
       "      <th>TweetId</th>\n",
       "      <th>Datetime</th>\n",
       "      <th>TwitterHandle</th>\n",
       "      <th>Tweetcontent</th>\n",
       "      <th>Innovation</th>\n",
       "    </tr>\n",
       "  </thead>\n",
       "  <tbody>\n",
       "    <tr>\n",
       "      <th>0</th>\n",
       "      <td>1.465100e+18</td>\n",
       "      <td>2021-11-28 23:26:06+00:00</td>\n",
       "      <td>VW</td>\n",
       "      <td>@GiggsyTheCorgi Hi there, we hope you were abl...</td>\n",
       "      <td>False</td>\n",
       "    </tr>\n",
       "    <tr>\n",
       "      <th>1</th>\n",
       "      <td>1.465100e+18</td>\n",
       "      <td>2021-11-28 23:27:10+00:00</td>\n",
       "      <td>VW</td>\n",
       "      <td>@breebousley13 Hi Aubrey, we can understand ho...</td>\n",
       "      <td>False</td>\n",
       "    </tr>\n",
       "    <tr>\n",
       "      <th>2</th>\n",
       "      <td>1.465150e+18</td>\n",
       "      <td>2021-11-29 03:02:53+00:00</td>\n",
       "      <td>Airbus</td>\n",
       "      <td>Congratulations 🎉 @CebuPacificAir on the deliv...</td>\n",
       "      <td>False</td>\n",
       "    </tr>\n",
       "    <tr>\n",
       "      <th>3</th>\n",
       "      <td>1.465190e+18</td>\n",
       "      <td>2021-11-29 05:22:06+00:00</td>\n",
       "      <td>SAP</td>\n",
       "      <td>Experience:💸 @SAPAriba for direct and indirect...</td>\n",
       "      <td>False</td>\n",
       "    </tr>\n",
       "    <tr>\n",
       "      <th>4</th>\n",
       "      <td>1.465210e+18</td>\n",
       "      <td>2021-11-29 06:33:08+00:00</td>\n",
       "      <td>Philips</td>\n",
       "      <td>@SOOOOOMA______ Good morningThank you for your...</td>\n",
       "      <td>False</td>\n",
       "    </tr>\n",
       "  </tbody>\n",
       "</table>\n",
       "</div>"
      ],
      "text/plain": [
       "        TweetId                   Datetime TwitterHandle  \\\n",
       "0  1.465100e+18  2021-11-28 23:26:06+00:00            VW   \n",
       "1  1.465100e+18  2021-11-28 23:27:10+00:00            VW   \n",
       "2  1.465150e+18  2021-11-29 03:02:53+00:00        Airbus   \n",
       "3  1.465190e+18  2021-11-29 05:22:06+00:00           SAP   \n",
       "4  1.465210e+18  2021-11-29 06:33:08+00:00       Philips   \n",
       "\n",
       "                                        Tweetcontent  Innovation  \n",
       "0  @GiggsyTheCorgi Hi there, we hope you were abl...       False  \n",
       "1  @breebousley13 Hi Aubrey, we can understand ho...       False  \n",
       "2  Congratulations 🎉 @CebuPacificAir on the deliv...       False  \n",
       "3  Experience:💸 @SAPAriba for direct and indirect...       False  \n",
       "4  @SOOOOOMA______ Good morningThank you for your...       False  "
      ]
     },
     "execution_count": 109,
     "metadata": {},
     "output_type": "execute_result"
    }
   ],
   "source": [
    "bigtweets.head()"
   ]
  },
  {
   "cell_type": "code",
   "execution_count": 117,
   "id": "95657f07",
   "metadata": {},
   "outputs": [],
   "source": [
    "import re"
   ]
  },
  {
   "cell_type": "code",
   "execution_count": 127,
   "id": "dc56b79f",
   "metadata": {},
   "outputs": [],
   "source": [
    "bigtweets[\"Innovation\"] = bigtweets[\"Tweetcontent\"].str.contains(\"innovation|innovator|innovative\", flags=re.IGNORECASE, regex=True)"
   ]
  },
  {
   "cell_type": "code",
   "execution_count": 128,
   "id": "c79a91a2",
   "metadata": {},
   "outputs": [],
   "source": [
    "mask = (bigtweets.Innovation == True)"
   ]
  },
  {
   "cell_type": "code",
   "execution_count": 129,
   "id": "9c536706",
   "metadata": {},
   "outputs": [],
   "source": [
    "masktweets = bigtweets[mask]"
   ]
  },
  {
   "cell_type": "code",
   "execution_count": 130,
   "id": "539e4211",
   "metadata": {},
   "outputs": [
    {
     "data": {
      "text/plain": [
       "135"
      ]
     },
     "execution_count": 130,
     "metadata": {},
     "output_type": "execute_result"
    }
   ],
   "source": [
    "masktweets.size"
   ]
  },
  {
   "cell_type": "code",
   "execution_count": 131,
   "id": "064a3583",
   "metadata": {},
   "outputs": [],
   "source": [
    "corpus = masktweets.Tweetcontent.values"
   ]
  },
  {
   "cell_type": "code",
   "execution_count": 132,
   "id": "dc095b20",
   "metadata": {},
   "outputs": [],
   "source": [
    "vect = CountVectorizer(max_df=0.90, min_df=3, ngram_range=(1, 2), max_features=2000, stop_words='english')"
   ]
  },
  {
   "cell_type": "code",
   "execution_count": 133,
   "id": "5cd824e5",
   "metadata": {},
   "outputs": [],
   "source": [
    "dtm = vect.fit_transform(corpus)"
   ]
  },
  {
   "cell_type": "code",
   "execution_count": 134,
   "id": "946bd998",
   "metadata": {},
   "outputs": [
    {
     "data": {
      "text/plain": [
       "LatentDirichletAllocation(n_components=5)"
      ]
     },
     "execution_count": 134,
     "metadata": {},
     "output_type": "execute_result"
    }
   ],
   "source": [
    "lda = LatentDirichletAllocation(n_components=5)\n",
    "lda.fit(dtm)"
   ]
  },
  {
   "cell_type": "code",
   "execution_count": 135,
   "id": "466e2d39",
   "metadata": {},
   "outputs": [
    {
     "data": {
      "text/plain": [
       "array([[ 4.19993501,  0.20137392,  0.20000787,  3.19872606,  2.20111267,\n",
       "         2.20278479,  4.36045633,  7.19778816,  5.20375251,  0.20000639,\n",
       "         0.20001556,  0.20248477,  0.2023974 ,  0.20002495,  2.20347434,\n",
       "         0.20000637,  0.20000637,  0.20000767,  0.20000836,  0.20001372,\n",
       "         3.1992132 ,  0.20001854],\n",
       "       [ 0.20000351,  0.20001086,  3.1977095 ,  1.19194782,  0.20000751,\n",
       "         0.20000943, 16.07124644,  0.20000817,  8.19605316,  3.19990918,\n",
       "         0.20245723,  0.20001354,  0.20000971,  1.19638558,  2.20060429,\n",
       "         3.19990906,  3.19990906,  4.19810761,  3.19739937,  0.20000993,\n",
       "         0.20000563,  1.19865101],\n",
       "       [ 0.20000399,  3.19842592,  0.2000066 ,  0.20160496,  2.19874912,\n",
       "         1.19704277, 14.03104798,  0.20206047,  0.20001268,  0.20000529,\n",
       "         1.18364758,  9.19725701,  3.19741568,  2.20328394,  1.19564137,\n",
       "         0.20000526,  0.20000526,  0.20000638,  0.20000701,  2.19371758,\n",
       "         0.2006797 ,  2.2011048 ],\n",
       "       [ 0.20001636,  0.20005416,  1.20220643,  1.20756169,  0.20003702,\n",
       "         0.20004616,  1.337021  ,  0.20004083,  0.20005183,  0.20002254,\n",
       "         2.2137462 ,  0.2000694 ,  0.20005455,  0.20008624,  0.2000914 ,\n",
       "         0.20002272,  0.20002272,  0.20181197,  0.20251314,  1.20613406,\n",
       "         0.20002853,  0.20006748],\n",
       "       [ 0.20004113,  0.20013514,  0.20006959,  0.20015948,  0.20009368,\n",
       "         0.20011685,  0.20022824,  0.20010236,  0.20012982,  0.20005659,\n",
       "         0.20013344,  0.20017528,  0.20012266,  0.20021929,  0.2001886 ,\n",
       "         0.20005659,  0.20005659,  0.20006637,  0.20007213,  0.20012472,\n",
       "         0.20007295,  0.20015816]])"
      ]
     },
     "execution_count": 135,
     "metadata": {},
     "output_type": "execute_result"
    }
   ],
   "source": [
    "# this is a list of how closely each word aligns with each topic\n",
    "lda.components_"
   ]
  },
  {
   "cell_type": "code",
   "execution_count": 136,
   "id": "c7640304",
   "metadata": {},
   "outputs": [],
   "source": [
    "# this will let us view the most important words for each topic, as determined by LDA\n",
    "\n",
    "def display_topics(model, feature_names, no_top_words):\n",
    "    for index, topic in enumerate(model.components_):\n",
    "        print(f\"Topic {index}\")\n",
    "        print(\", \".join([feature_names[i] for i in topic.argsort()[:-no_top_words - 1:-1]]))\n",
    "\n",
    "no_top_words = 15"
   ]
  },
  {
   "cell_type": "code",
   "execution_count": 137,
   "id": "293a7189",
   "metadata": {},
   "outputs": [
    {
     "name": "stdout",
     "output_type": "stream",
     "text": [
      "Topic 0\n",
      "imaginepossible, innovation, https, 5g, space, explore, new, hear, future, innovative, learn, amp, like, working, innovations\n",
      "Topic 1\n",
      "https, innovation, read, innovation https, plantbased innovation, plantbased, based, read https, new, working, like, explore, innovations, innovative, amp\n",
      "Topic 2\n",
      "https, innovative, amp, learn, like, working, future, solutions, hear, new, innovations, imaginepossible, explore, space, innovation\n",
      "Topic 3\n",
      "innovations, https, explore, solutions, based, read https, read, new, like, innovative, working, learn, amp, innovation, hear\n",
      "Topic 4\n",
      "https, like, new, innovative, explore, working, amp, innovations, innovation, solutions, learn, hear, imaginepossible, future, space\n"
     ]
    }
   ],
   "source": [
    "display_topics(lda, vect.get_feature_names(), no_top_words)"
   ]
  },
  {
   "cell_type": "code",
   "execution_count": null,
   "id": "0433b1c2",
   "metadata": {},
   "outputs": [],
   "source": []
  }
 ],
 "metadata": {
  "kernelspec": {
   "display_name": "Python 3",
   "language": "python",
   "name": "python3"
  },
  "language_info": {
   "codemirror_mode": {
    "name": "ipython",
    "version": 3
   },
   "file_extension": ".py",
   "mimetype": "text/x-python",
   "name": "python",
   "nbconvert_exporter": "python",
   "pygments_lexer": "ipython3",
   "version": "3.8.8"
  }
 },
 "nbformat": 4,
 "nbformat_minor": 5
}
