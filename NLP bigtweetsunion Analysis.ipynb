{
 "cells": [
  {
   "cell_type": "code",
   "execution_count": 2,
   "id": "cd137c39",
   "metadata": {},
   "outputs": [],
   "source": [
    "import pandas as pd\n",
    "from sklearn.model_selection import train_test_split\n",
    "from sklearn.feature_extraction.text import CountVectorizer\n",
    "from sklearn.linear_model import LogisticRegression\n",
    "from sklearn.metrics import plot_confusion_matrix"
   ]
  },
  {
   "cell_type": "code",
   "execution_count": 8,
   "id": "ba4a0320",
   "metadata": {},
   "outputs": [],
   "source": [
    "tweets = pd.read_csv('./bigtweetsunionaccounts.csv')"
   ]
  },
  {
   "cell_type": "code",
   "execution_count": 9,
   "id": "8afc5655",
   "metadata": {},
   "outputs": [
    {
     "data": {
      "text/html": [
       "<div>\n",
       "<style scoped>\n",
       "    .dataframe tbody tr th:only-of-type {\n",
       "        vertical-align: middle;\n",
       "    }\n",
       "\n",
       "    .dataframe tbody tr th {\n",
       "        vertical-align: top;\n",
       "    }\n",
       "\n",
       "    .dataframe thead th {\n",
       "        text-align: right;\n",
       "    }\n",
       "</style>\n",
       "<table border=\"1\" class=\"dataframe\">\n",
       "  <thead>\n",
       "    <tr style=\"text-align: right;\">\n",
       "      <th></th>\n",
       "      <th>tweetid</th>\n",
       "      <th>datetime</th>\n",
       "      <th>twitterhandle</th>\n",
       "      <th>tweetcontent</th>\n",
       "      <th>accountname</th>\n",
       "      <th>region</th>\n",
       "      <th>portfolio</th>\n",
       "      <th>subportfolio</th>\n",
       "    </tr>\n",
       "  </thead>\n",
       "  <tbody>\n",
       "    <tr>\n",
       "      <th>0</th>\n",
       "      <td>1.349380e+18</td>\n",
       "      <td>2021-01-13 15:18:08+00:00</td>\n",
       "      <td>LloydsBank</td>\n",
       "      <td>@Andyram2k Hi Andy, thanks for bringing this t...</td>\n",
       "      <td>LLOYDS BANKING GROUP</td>\n",
       "      <td>UKIIMEA</td>\n",
       "      <td>BCM</td>\n",
       "      <td>BCM</td>\n",
       "    </tr>\n",
       "    <tr>\n",
       "      <th>1</th>\n",
       "      <td>1.354970e+18</td>\n",
       "      <td>2021-01-29 02:06:23+00:00</td>\n",
       "      <td>LloydsBank</td>\n",
       "      <td>@MissHC6 Hi, I'm Dave. Thanks for getting in t...</td>\n",
       "      <td>LLOYDS BANKING GROUP</td>\n",
       "      <td>UKIIMEA</td>\n",
       "      <td>BCM</td>\n",
       "      <td>BCM</td>\n",
       "    </tr>\n",
       "    <tr>\n",
       "      <th>2</th>\n",
       "      <td>1.349380e+18</td>\n",
       "      <td>2021-01-13 15:35:14+00:00</td>\n",
       "      <td>LloydsBank</td>\n",
       "      <td>@TheRobbo1 Thanks for the additional info Mark...</td>\n",
       "      <td>LLOYDS BANKING GROUP</td>\n",
       "      <td>UKIIMEA</td>\n",
       "      <td>BCM</td>\n",
       "      <td>BCM</td>\n",
       "    </tr>\n",
       "    <tr>\n",
       "      <th>3</th>\n",
       "      <td>1.349380e+18</td>\n",
       "      <td>2021-01-13 15:43:18+00:00</td>\n",
       "      <td>LloydsBank</td>\n",
       "      <td>@fuji_fod Hi, I'm Delina. I'd like to help. Pa...</td>\n",
       "      <td>LLOYDS BANKING GROUP</td>\n",
       "      <td>UKIIMEA</td>\n",
       "      <td>BCM</td>\n",
       "      <td>BCM</td>\n",
       "    </tr>\n",
       "    <tr>\n",
       "      <th>4</th>\n",
       "      <td>1.356670e+18</td>\n",
       "      <td>2021-02-02 18:39:37+00:00</td>\n",
       "      <td>LloydsBank</td>\n",
       "      <td>@bellaar_ Hi Bella. Thanks for getting in touc...</td>\n",
       "      <td>LLOYDS BANKING GROUP</td>\n",
       "      <td>UKIIMEA</td>\n",
       "      <td>BCM</td>\n",
       "      <td>BCM</td>\n",
       "    </tr>\n",
       "  </tbody>\n",
       "</table>\n",
       "</div>"
      ],
      "text/plain": [
       "        tweetid                   datetime twitterhandle  \\\n",
       "0  1.349380e+18  2021-01-13 15:18:08+00:00    LloydsBank   \n",
       "1  1.354970e+18  2021-01-29 02:06:23+00:00    LloydsBank   \n",
       "2  1.349380e+18  2021-01-13 15:35:14+00:00    LloydsBank   \n",
       "3  1.349380e+18  2021-01-13 15:43:18+00:00    LloydsBank   \n",
       "4  1.356670e+18  2021-02-02 18:39:37+00:00    LloydsBank   \n",
       "\n",
       "                                        tweetcontent           accountname  \\\n",
       "0  @Andyram2k Hi Andy, thanks for bringing this t...  LLOYDS BANKING GROUP   \n",
       "1  @MissHC6 Hi, I'm Dave. Thanks for getting in t...  LLOYDS BANKING GROUP   \n",
       "2  @TheRobbo1 Thanks for the additional info Mark...  LLOYDS BANKING GROUP   \n",
       "3  @fuji_fod Hi, I'm Delina. I'd like to help. Pa...  LLOYDS BANKING GROUP   \n",
       "4  @bellaar_ Hi Bella. Thanks for getting in touc...  LLOYDS BANKING GROUP   \n",
       "\n",
       "    region portfolio subportfolio  \n",
       "0  UKIIMEA       BCM          BCM  \n",
       "1  UKIIMEA       BCM          BCM  \n",
       "2  UKIIMEA       BCM          BCM  \n",
       "3  UKIIMEA       BCM          BCM  \n",
       "4  UKIIMEA       BCM          BCM  "
      ]
     },
     "execution_count": 9,
     "metadata": {},
     "output_type": "execute_result"
    }
   ],
   "source": [
    "tweets.head()"
   ]
  },
  {
   "cell_type": "code",
   "execution_count": 10,
   "id": "b299bb7a",
   "metadata": {},
   "outputs": [],
   "source": [
    "features = tweets.tweetcontent\n",
    "target = tweets.subportfolio"
   ]
  },
  {
   "cell_type": "code",
   "execution_count": 11,
   "id": "227886a8",
   "metadata": {},
   "outputs": [],
   "source": [
    "X_train, X_test, y_train, y_test = train_test_split(features, target, test_size=0.33)"
   ]
  },
  {
   "cell_type": "code",
   "execution_count": 12,
   "id": "d5a8761c",
   "metadata": {},
   "outputs": [],
   "source": [
    "# instantiate a CountVectorizer object\n",
    "vect = CountVectorizer()\n",
    "\n",
    "X_train_dtm = vect.fit_transform(X_train)\n",
    "X_test_dtm = vect.transform(X_test)"
   ]
  },
  {
   "cell_type": "code",
   "execution_count": 13,
   "id": "0e5e942f",
   "metadata": {},
   "outputs": [
    {
     "name": "stdout",
     "output_type": "stream",
     "text": [
      "['00', '000', '0000', '00000000', '000003', '000006', '000019', '000028', '000068', '0000laura', '0000our', '0000regardsgavin', '0000with', '000110', '000178', '000179', '000187', '000225', '000235', '000credit']\n",
      "['𝗗𝗮𝘆', '𝗙𝘂𝗹𝗹', '𝗜𝗻𝗱𝘂𝘀𝘁𝗿𝘆', '𝗜𝗻𝘁𝗲𝗿𝘃𝗶𝗲𝘄in', '𝗡𝗼𝘄', '𝗦𝗺𝗶𝗹𝗲', '𝗦𝘆𝗿𝗶𝗮', '𝗪𝗼𝗿𝗹𝗱', '𝗳𝗿𝗼𝗺', '𝗵𝗲𝗹𝗽', '𝗶𝗻𝘁𝗲𝗴𝗿𝗮𝘁𝗲', '𝗿𝗲𝗳𝘂𝗴𝗲𝗲𝘀', '𝘁𝗵𝗲', '𝘒𝘯𝘶𝘵𝘴𝘤𝘩𝘬𝘶𝘨𝘦𝘭', '𝘥𝘦𝘧𝘪𝘯𝘪𝘵𝘪𝘰𝘯', '𝘾𝙝𝙖𝙩', '𝙇𝙞𝙫𝙚', '𝙡𝙤𝙩𝙨', '𝟬𝟬𝟬', '𝟮𝟬']\n"
     ]
    }
   ],
   "source": [
    "# can get the token names from the vectorizer once it's fit\n",
    "print(vect.get_feature_names()[:20])\n",
    "print(vect.get_feature_names()[-20:])"
   ]
  },
  {
   "cell_type": "code",
   "execution_count": 14,
   "id": "1d5aa123",
   "metadata": {},
   "outputs": [
    {
     "data": {
      "text/plain": [
       "(47312, 88250)"
      ]
     },
     "execution_count": 14,
     "metadata": {},
     "output_type": "execute_result"
    }
   ],
   "source": [
    "X_train_dtm.shape"
   ]
  },
  {
   "cell_type": "code",
   "execution_count": 15,
   "id": "abe3f187",
   "metadata": {},
   "outputs": [
    {
     "name": "stdout",
     "output_type": "stream",
     "text": [
      "45061    Increases in global development and internatio...\n",
      "10276    @IrBchn Hi, I'm Laura. We know some of our cus...\n",
      "6433     @Tifflovesdisney That's correct. You won't nee...\n",
      "Name: tweetcontent, dtype: object \n",
      " ['Telecommunications' 'BCM' 'BCM']\n"
     ]
    },
    {
     "data": {
      "text/plain": [
       "0.9469596189331846"
      ]
     },
     "execution_count": 15,
     "metadata": {},
     "output_type": "execute_result"
    }
   ],
   "source": [
    "lr = LogisticRegression(max_iter=500)\n",
    "\n",
    "lr.fit(X_train_dtm, y_train)\n",
    "y_pred = lr.predict(X_test_dtm)\n",
    "print(X_test[:3], '\\n', y_pred[:3])\n",
    "\n",
    "lr.score(X_test_dtm, y_test)"
   ]
  },
  {
   "cell_type": "code",
   "execution_count": 16,
   "id": "ab7ad404",
   "metadata": {},
   "outputs": [
    {
     "data": {
      "text/plain": [
       "BCM                        0.365461\n",
       "Energy Utility & Tech.     0.246038\n",
       "Public Sector & Defence    0.144658\n",
       "Manuf & Automotive         0.091241\n",
       "Transportation             0.069164\n",
       "Telecommunications         0.043574\n",
       "Retail                     0.017617\n",
       "Chemicals & Agriculture    0.016229\n",
       "Insurance                  0.006019\n",
       "Name: subportfolio, dtype: float64"
      ]
     },
     "execution_count": 16,
     "metadata": {},
     "output_type": "execute_result"
    }
   ],
   "source": [
    "# check baseline accuracy\n",
    "tweets.subportfolio.value_counts(normalize=True)"
   ]
  },
  {
   "cell_type": "code",
   "execution_count": 17,
   "id": "487e4d2a",
   "metadata": {},
   "outputs": [
    {
     "data": {
      "image/png": "[encoded data removed]",
      "text/plain": [
       "<Figure size 640x480 with 2 Axes>"
      ]
     },
     "metadata": {},
     "output_type": "display_data"
    }
   ],
   "source": [
    "import matplotlib.pyplot as plt\n",
    "plt.style.use('default')\n",
    "plot_confusion_matrix(lr, X_test_dtm, y_test, xticks_rotation='vertical');"
   ]
  },
  {
   "cell_type": "markdown",
   "id": "4295d667",
   "metadata": {},
   "source": [
    "## Latent Dirichlet Allocation"
   ]
  },
  {
   "cell_type": "code",
   "execution_count": 18,
   "id": "c57fa7ff",
   "metadata": {},
   "outputs": [],
   "source": [
    "from sklearn.decomposition import LatentDirichletAllocation"
   ]
  },
  {
   "cell_type": "code",
   "execution_count": 19,
   "id": "0934eb0a",
   "metadata": {},
   "outputs": [],
   "source": [
    "tweets = pd.read_csv('./bigtweetsunionaccounts.csv')"
   ]
  },
  {
   "cell_type": "code",
   "execution_count": 20,
   "id": "7031e388",
   "metadata": {},
   "outputs": [],
   "source": [
    "corpus = tweets.tweetcontent.values"
   ]
  },
  {
   "cell_type": "code",
   "execution_count": 21,
   "id": "6080f042",
   "metadata": {},
   "outputs": [],
   "source": [
    "vect = CountVectorizer(max_df=0.90, min_df=3, ngram_range=(1, 2), max_features=2000, stop_words='english')"
   ]
  },
  {
   "cell_type": "code",
   "execution_count": 22,
   "id": "a513aabe",
   "metadata": {},
   "outputs": [],
   "source": [
    "dtm = vect.fit_transform(corpus)"
   ]
  },
  {
   "cell_type": "code",
   "execution_count": 33,
   "id": "18721465",
   "metadata": {},
   "outputs": [
    {
     "data": {
      "text/plain": [
       "LatentDirichletAllocation(n_components=30)"
      ]
     },
     "execution_count": 33,
     "metadata": {},
     "output_type": "execute_result"
    }
   ],
   "source": [
    "lda = LatentDirichletAllocation(n_components=30)\n",
    "lda.fit(dtm)"
   ]
  },
  {
   "cell_type": "code",
   "execution_count": 29,
   "id": "2b7447d4",
   "metadata": {},
   "outputs": [
    {
     "data": {
      "text/plain": [
       "array([[1.00002867e-01, 1.00004376e-01, 1.00006002e-01, ...,\n",
       "        1.00000000e-01, 1.00000000e-01, 1.00000000e-01],\n",
       "       [1.00003171e-01, 1.00003758e-01, 1.00005655e-01, ...,\n",
       "        1.00000000e-01, 1.00000000e-01, 1.00000000e-01],\n",
       "       [1.00006035e-01, 1.00002854e-01, 1.00002839e-01, ...,\n",
       "        5.53099997e+02, 3.55099995e+02, 2.71099995e+02],\n",
       "       ...,\n",
       "       [2.43287793e+02, 3.31963847e+02, 5.69099974e+02, ...,\n",
       "        1.00000037e-01, 1.00000022e-01, 1.00000019e-01],\n",
       "       [2.02833126e+02, 3.40547632e+02, 1.00000124e-01, ...,\n",
       "        1.00002717e-01, 1.00003899e-01, 1.00004405e-01],\n",
       "       [1.00001467e-01, 1.33182406e+02, 1.00000046e-01, ...,\n",
       "        1.00000059e-01, 1.00000024e-01, 1.00000000e-01]])"
      ]
     },
     "execution_count": 29,
     "metadata": {},
     "output_type": "execute_result"
    }
   ],
   "source": [
    "# this is a list of how closely each word aligns with each topic\n",
    "lda.components_"
   ]
  },
  {
   "cell_type": "code",
   "execution_count": 34,
   "id": "3de5c304",
   "metadata": {},
   "outputs": [],
   "source": [
    "# this will let us view the most important words for each topic, as determined by LDA\n",
    "\n",
    "def display_topics(model, feature_names, no_top_words):\n",
    "    for index, topic in enumerate(model.components_):\n",
    "        print(f\"Topic {index}\")\n",
    "        print(\", \".join([feature_names[i] for i in topic.argsort()[:-no_top_words - 1:-1]]))\n",
    "\n",
    "no_top_words = 15"
   ]
  },
  {
   "cell_type": "code",
   "execution_count": 35,
   "id": "9b67b1e0",
   "metadata": {},
   "outputs": [
    {
     "name": "stdout",
     "output_type": "stream",
     "text": [
      "Topic 0\n",
      "dm, account, hi, look, number, address, sorry, account number, date, dob, query, send, details, birth, ll\n",
      "Topic 1\n",
      "contact, hi, details, team, https, dm, local, contact details, page, lg0eck7edw, https lg0eck7edw, local team, information, thank, thanks\n",
      "Topic 2\n",
      "https, new, microfocus, cyberresilience, learn, cyberresilience https, blog, data, security, learn https, sap, cloud, blog https, latest, cybersecurity\n",
      "Topic 3\n",
      "able, colleagues, 0345, team, 300, 0345 300, look, help, thanks, contact, 0000, don, touch, 300 0000, andym\n",
      "Topic 4\n",
      "thank, sharing, welcome, good, thank sharing, hello, send, care, amazing, send dm, looks, gather, ja, gt, dm gather\n",
      "Topic 5\n",
      "https, year, today, defence, uk, 2021, forces, في, week, armed, armed forces, years, amp, على, day\n",
      "Topic 6\n",
      "direct, sorry, bank, money, payments, debit, issue, direct debit, earlier, want, delay, took, account, refunded, station\n",
      "Topic 7\n",
      "https, support, help, health, work, amp, women, need, care, people, apply, access, watch, reaching, vw\n",
      "Topic 8\n",
      "getting, touch, getting touch, thanks, thanks getting, hi, touch sorry, hi thanks, account, amp, iain, david, today, ve, colin thanks\n",
      "Topic 9\n",
      "https, amp, new, future, sustainable, climate, sustainability, energy, ceo, business, change, world, digital, help, global\n",
      "Topic 10\n",
      "https, covid19, vaccine, covid, 19, covid 19, info, info https, uk, covid19 vaccine, given, doses, vaccination, given uk, doses given\n",
      "Topic 11\n",
      "https, website, visit, id, like, visit https, live, website https, chat, jc, available, information, model, car, vw\n",
      "Topic 12\n",
      "https, https qch3ptycmg, qch3ptycmg, try, james, using, face, data, train, brian, device, jaguarracing, hi, james https, travel\n",
      "Topic 13\n",
      "sorry, hear, sorry hear, hi, dm, help, happened, read, provide, sorry read, prefer, having, dm prefer, trouble, hear having\n",
      "Topic 14\n",
      "know, let, let know, thanks, care, glad, day, great, thanks sharing, sharing, hear, enjoy, tv, help, philips\n",
      "Topic 15\n",
      "send, hi, message, thanks, hear, reaching, private, assist, look, sorry, thank, able, dm, sorry hear, send dm\n",
      "Topic 16\n",
      "link, customer, possible, https, form, contact, following, team, soon, bank, link https, soon possible, relevant, following link, department\n",
      "Topic 17\n",
      "address, social, media, sap, social media, email, number, sap social, phone, email address, debbie, debbie sap, team, thanks, https\n",
      "Topic 18\n",
      "issues, working, having, soon, having issues, sorry, normal, internet, know, banking, hi, internet banking, customers, working normal, normal soon\n",
      "Topic 19\n",
      "free, feel, feel free, happy, hi, assistance, help, bmw, free dm, contact, questions, free send, need, case, assist\n",
      "Topic 20\n",
      "access, unable, details, sorry, twitter, number, complaint, ve, don, information, best, account, did, personal, understand\n",
      "Topic 21\n",
      "open, 0345, hope, helps, team, hope helps, account, banking, team 0345, monday, 7am, paulr, hi, 11pm, friday\n",
      "Topic 22\n",
      "scam, text, hi, thanks, message, delete, report, network, provider, aware, 7726, network provider, number, click, link\n",
      "Topic 23\n",
      "sorry, wait, hi, busy, lines, answer, soon, speak, colleagues, calls, line, times, quickly, team, possible\n",
      "Topic 24\n",
      "card, account, hi, branch, ve, payment, thanks, dm, credit, need, replied, hope, helps, ll, days\n",
      "Topic 25\n",
      "die, sie, wir, der, und, banking, internet, internet banking, uns, für, mit, zu, normal, issues internet, https\n",
      "Topic 26\n",
      "app, sorry, hi, issues, try, having, inconvenience, mobile, caused, log, site, issue, really, online, aware\n",
      "Topic 27\n",
      "make, sure, service, ll, hi, feedback, time, ensure, make sure, team, kindly, request, product, taking, share\n",
      "Topic 28\n",
      "https, new, 5g, amp, customersuccess, services, microfocus, customersuccess https, ericsson, case, study, network, uae, financial, read\n",
      "Topic 29\n",
      "https, read, home, people, read https, safe, covid19, protect, help, stay, stop, new, nhs, lives, save\n"
     ]
    }
   ],
   "source": [
    "display_topics(lda, vect.get_feature_names(), no_top_words)"
   ]
  },
  {
   "cell_type": "markdown",
   "id": "3762f0ab",
   "metadata": {},
   "source": [
    "#### Larger Dataset"
   ]
  },
  {
   "cell_type": "code",
   "execution_count": 65,
   "id": "dae99b25",
   "metadata": {},
   "outputs": [],
   "source": [
    "bigtweets = pd.read_csv('./bigtweets.csv')"
   ]
  },
  {
   "cell_type": "code",
   "execution_count": 67,
   "id": "e11b27b8",
   "metadata": {},
   "outputs": [
    {
     "data": {
      "text/html": [
       "<div>\n",
       "<style scoped>\n",
       "    .dataframe tbody tr th:only-of-type {\n",
       "        vertical-align: middle;\n",
       "    }\n",
       "\n",
       "    .dataframe tbody tr th {\n",
       "        vertical-align: top;\n",
       "    }\n",
       "\n",
       "    .dataframe thead th {\n",
       "        text-align: right;\n",
       "    }\n",
       "</style>\n",
       "<table border=\"1\" class=\"dataframe\">\n",
       "  <thead>\n",
       "    <tr style=\"text-align: right;\">\n",
       "      <th></th>\n",
       "      <th>TweetId</th>\n",
       "      <th>Datetime</th>\n",
       "      <th>TwitterHandle</th>\n",
       "      <th>Tweetcontent</th>\n",
       "    </tr>\n",
       "  </thead>\n",
       "  <tbody>\n",
       "    <tr>\n",
       "      <th>0</th>\n",
       "      <td>1.465100e+18</td>\n",
       "      <td>2021-11-28 23:26:06+00:00</td>\n",
       "      <td>VW</td>\n",
       "      <td>@GiggsyTheCorgi Hi there, we hope you were abl...</td>\n",
       "    </tr>\n",
       "    <tr>\n",
       "      <th>1</th>\n",
       "      <td>1.465100e+18</td>\n",
       "      <td>2021-11-28 23:27:10+00:00</td>\n",
       "      <td>VW</td>\n",
       "      <td>@breebousley13 Hi Aubrey, we can understand ho...</td>\n",
       "    </tr>\n",
       "    <tr>\n",
       "      <th>2</th>\n",
       "      <td>1.465150e+18</td>\n",
       "      <td>2021-11-29 03:02:53+00:00</td>\n",
       "      <td>Airbus</td>\n",
       "      <td>Congratulations 🎉 @CebuPacificAir on the deliv...</td>\n",
       "    </tr>\n",
       "    <tr>\n",
       "      <th>3</th>\n",
       "      <td>1.465190e+18</td>\n",
       "      <td>2021-11-29 05:22:06+00:00</td>\n",
       "      <td>SAP</td>\n",
       "      <td>Experience:💸 @SAPAriba for direct and indirect...</td>\n",
       "    </tr>\n",
       "    <tr>\n",
       "      <th>4</th>\n",
       "      <td>1.465210e+18</td>\n",
       "      <td>2021-11-29 06:33:08+00:00</td>\n",
       "      <td>Philips</td>\n",
       "      <td>@SOOOOOMA______ Good morningThank you for your...</td>\n",
       "    </tr>\n",
       "  </tbody>\n",
       "</table>\n",
       "</div>"
      ],
      "text/plain": [
       "        TweetId                   Datetime TwitterHandle  \\\n",
       "0  1.465100e+18  2021-11-28 23:26:06+00:00            VW   \n",
       "1  1.465100e+18  2021-11-28 23:27:10+00:00            VW   \n",
       "2  1.465150e+18  2021-11-29 03:02:53+00:00        Airbus   \n",
       "3  1.465190e+18  2021-11-29 05:22:06+00:00           SAP   \n",
       "4  1.465210e+18  2021-11-29 06:33:08+00:00       Philips   \n",
       "\n",
       "                                        Tweetcontent  \n",
       "0  @GiggsyTheCorgi Hi there, we hope you were abl...  \n",
       "1  @breebousley13 Hi Aubrey, we can understand ho...  \n",
       "2  Congratulations 🎉 @CebuPacificAir on the deliv...  \n",
       "3  Experience:💸 @SAPAriba for direct and indirect...  \n",
       "4  @SOOOOOMA______ Good morningThank you for your...  "
      ]
     },
     "execution_count": 67,
     "metadata": {},
     "output_type": "execute_result"
    }
   ],
   "source": [
    "bigtweets.head()"
   ]
  },
  {
   "cell_type": "code",
   "execution_count": 68,
   "id": "95bfdb38",
   "metadata": {},
   "outputs": [],
   "source": [
    "corpus = bigtweets.Tweetcontent.values"
   ]
  },
  {
   "cell_type": "code",
   "execution_count": 69,
   "id": "8755f942",
   "metadata": {},
   "outputs": [],
   "source": [
    "vect = CountVectorizer(max_df=0.90, min_df=3, ngram_range=(1, 2), max_features=2000, stop_words='english')"
   ]
  },
  {
   "cell_type": "code",
   "execution_count": 70,
   "id": "de0c436c",
   "metadata": {},
   "outputs": [],
   "source": [
    "dtm = vect.fit_transform(corpus)"
   ]
  },
  {
   "cell_type": "code",
   "execution_count": 75,
   "id": "39938547",
   "metadata": {},
   "outputs": [
    {
     "data": {
      "text/plain": [
       "LatentDirichletAllocation()"
      ]
     },
     "execution_count": 75,
     "metadata": {},
     "output_type": "execute_result"
    }
   ],
   "source": [
    "lda = LatentDirichletAllocation(n_components=10)\n",
    "lda.fit(dtm)"
   ]
  },
  {
   "cell_type": "code",
   "execution_count": 76,
   "id": "e485dc48",
   "metadata": {},
   "outputs": [
    {
     "data": {
      "text/plain": [
       "array([[ 0.1       ,  0.1000011 ,  0.10000019, ...,  0.1       ,\n",
       "         0.1       ,  0.1       ],\n",
       "       [ 0.10000307,  0.10000045,  0.10000013, ...,  0.1       ,\n",
       "         0.1       ,  0.1       ],\n",
       "       [ 0.10000425,  0.10000308,  0.10002739, ...,  0.1       ,\n",
       "         0.1       ,  0.1       ],\n",
       "       ...,\n",
       "       [ 0.10005434, 26.90596179,  0.10001279, ..., 10.09999899,\n",
       "        13.09969445, 11.1       ],\n",
       "       [ 0.10000993,  0.10002441,  0.10001259, ...,  0.10000048,\n",
       "         0.1       ,  0.1       ],\n",
       "       [21.09989266,  0.10000553, 39.63972074, ...,  0.1       ,\n",
       "         0.1       ,  0.1       ]])"
      ]
     },
     "execution_count": 76,
     "metadata": {},
     "output_type": "execute_result"
    }
   ],
   "source": [
    "# this is a list of how closely each word aligns with each topic\n",
    "lda.components_"
   ]
  },
  {
   "cell_type": "code",
   "execution_count": 77,
   "id": "c5b80693",
   "metadata": {},
   "outputs": [],
   "source": [
    "# this will let us view the most important words for each topic, as determined by LDA\n",
    "\n",
    "def display_topics(model, feature_names, no_top_words):\n",
    "    for index, topic in enumerate(model.components_):\n",
    "        print(f\"Topic {index}\")\n",
    "        print(\", \".join([feature_names[i] for i in topic.argsort()[:-no_top_words - 1:-1]]))\n",
    "\n",
    "no_top_words = 15"
   ]
  },
  {
   "cell_type": "code",
   "execution_count": 78,
   "id": "b5367daa",
   "metadata": {
    "scrolled": true
   },
   "outputs": [
    {
     "name": "stdout",
     "output_type": "stream",
     "text": [
      "Topic 0\n",
      "reaching, thank, sharing, vw, bmw, thanks, social, recommend, help, hello, order, information, thanks sharing, need, happy\n",
      "Topic 1\n",
      "https, covid, hi, 19, try, covid 19, know, let, uk, let know, given, booster, delay, vaccine, nicola\n",
      "Topic 2\n",
      "hi, sorry, dm, address, number, details, account, team, help, look, eonhelp, hear, ll, https, able\n",
      "Topic 3\n",
      "hi, thank, message, contact, hello, send, https, soon, team, hear, sorry, help, thanks, link, customer\n",
      "Topic 4\n",
      "https, new, year, amp, christmas, covid19, support, people, day, booster, learn, help, uk, today, microfocus\n",
      "Topic 5\n",
      "https, free, care, feel, information, feel free, imaginepossible, new, future, change, read, help, 5g, know, 2021\n",
      "Topic 6\n",
      "hi, sorry, dm, hear, card, sorry hear, thanks, ve, account, details, ll, having, branch, send, able\n",
      "Topic 7\n",
      "https, sie, die, wir, der, und, team, في, 0345, replied, banking, المالية, den, على, من\n",
      "Topic 8\n",
      "https, amp, service, services, 2022, ve, help, thanks, website, able, mofuae, digital, report, read, federal\n",
      "Topic 9\n",
      "touch, getting, thanks, getting touch, thanks getting, hi, app, banking, der, mobile, 0345, helps, online, hope helps, bei\n"
     ]
    }
   ],
   "source": [
    "display_topics(lda, vect.get_feature_names(), no_top_words)"
   ]
  },
  {
   "cell_type": "markdown",
   "id": "7ab2ab96",
   "metadata": {},
   "source": [
    "### Compare innovation and non innovation tweets"
   ]
  },
  {
   "cell_type": "markdown",
   "id": "ea30f3b5",
   "metadata": {},
   "source": [
    "take a string and return True if contains innovation, false otherwise. use that function to make a new column in pandas using .apply"
   ]
  },
  {
   "cell_type": "code",
   "execution_count": 121,
   "id": "d38fc2db",
   "metadata": {},
   "outputs": [],
   "source": [
    "bigtweets = pd.read_csv('./bigtweets.csv')"
   ]
  },
  {
   "cell_type": "code",
   "execution_count": 109,
   "id": "4e34b35c",
   "metadata": {},
   "outputs": [
    {
     "data": {
      "text/html": [
       "<div>\n",
       "<style scoped>\n",
       "    .dataframe tbody tr th:only-of-type {\n",
       "        vertical-align: middle;\n",
       "    }\n",
       "\n",
       "    .dataframe tbody tr th {\n",
       "        vertical-align: top;\n",
       "    }\n",
       "\n",
       "    .dataframe thead th {\n",
       "        text-align: right;\n",
       "    }\n",
       "</style>\n",
       "<table border=\"1\" class=\"dataframe\">\n",
       "  <thead>\n",
       "    <tr style=\"text-align: right;\">\n",
       "      <th></th>\n",
       "      <th>TweetId</th>\n",
       "      <th>Datetime</th>\n",
       "      <th>TwitterHandle</th>\n",
       "      <th>Tweetcontent</th>\n",
       "      <th>Innovation</th>\n",
       "    </tr>\n",
       "  </thead>\n",
       "  <tbody>\n",
       "    <tr>\n",
       "      <th>0</th>\n",
       "      <td>1.465100e+18</td>\n",
       "      <td>2021-11-28 23:26:06+00:00</td>\n",
       "      <td>VW</td>\n",
       "      <td>@GiggsyTheCorgi Hi there, we hope you were abl...</td>\n",
       "      <td>False</td>\n",
       "    </tr>\n",
       "    <tr>\n",
       "      <th>1</th>\n",
       "      <td>1.465100e+18</td>\n",
       "      <td>2021-11-28 23:27:10+00:00</td>\n",
       "      <td>VW</td>\n",
       "      <td>@breebousley13 Hi Aubrey, we can understand ho...</td>\n",
       "      <td>False</td>\n",
       "    </tr>\n",
       "    <tr>\n",
       "      <th>2</th>\n",
       "      <td>1.465150e+18</td>\n",
       "      <td>2021-11-29 03:02:53+00:00</td>\n",
       "      <td>Airbus</td>\n",
       "      <td>Congratulations 🎉 @CebuPacificAir on the deliv...</td>\n",
       "      <td>False</td>\n",
       "    </tr>\n",
       "    <tr>\n",
       "      <th>3</th>\n",
       "      <td>1.465190e+18</td>\n",
       "      <td>2021-11-29 05:22:06+00:00</td>\n",
       "      <td>SAP</td>\n",
       "      <td>Experience:💸 @SAPAriba for direct and indirect...</td>\n",
       "      <td>False</td>\n",
       "    </tr>\n",
       "    <tr>\n",
       "      <th>4</th>\n",
       "      <td>1.465210e+18</td>\n",
       "      <td>2021-11-29 06:33:08+00:00</td>\n",
       "      <td>Philips</td>\n",
       "      <td>@SOOOOOMA______ Good morningThank you for your...</td>\n",
       "      <td>False</td>\n",
       "    </tr>\n",
       "  </tbody>\n",
       "</table>\n",
       "</div>"
      ],
      "text/plain": [
       "        TweetId                   Datetime TwitterHandle  \\\n",
       "0  1.465100e+18  2021-11-28 23:26:06+00:00            VW   \n",
       "1  1.465100e+18  2021-11-28 23:27:10+00:00            VW   \n",
       "2  1.465150e+18  2021-11-29 03:02:53+00:00        Airbus   \n",
       "3  1.465190e+18  2021-11-29 05:22:06+00:00           SAP   \n",
       "4  1.465210e+18  2021-11-29 06:33:08+00:00       Philips   \n",
       "\n",
       "                                        Tweetcontent  Innovation  \n",
       "0  @GiggsyTheCorgi Hi there, we hope you were abl...       False  \n",
       "1  @breebousley13 Hi Aubrey, we can understand ho...       False  \n",
       "2  Congratulations 🎉 @CebuPacificAir on the deliv...       False  \n",
       "3  Experience:💸 @SAPAriba for direct and indirect...       False  \n",
       "4  @SOOOOOMA______ Good morningThank you for your...       False  "
      ]
     },
     "execution_count": 109,
     "metadata": {},
     "output_type": "execute_result"
    }
   ],
   "source": [
    "bigtweets.head()"
   ]
  },
  {
   "cell_type": "code",
   "execution_count": 117,
   "id": "95657f07",
   "metadata": {},
   "outputs": [],
   "source": [
    "import re"
   ]
  },
  {
   "cell_type": "code",
   "execution_count": 127,
   "id": "dc56b79f",
   "metadata": {},
   "outputs": [],
   "source": [
    "bigtweets[\"Innovation\"] = bigtweets[\"Tweetcontent\"].str.contains(\"innovation|innovator|innovative\", flags=re.IGNORECASE, regex=True)"
   ]
  },
  {
   "cell_type": "code",
   "execution_count": 128,
   "id": "c79a91a2",
   "metadata": {},
   "outputs": [],
   "source": [
    "mask = (bigtweets.Innovation == True)"
   ]
  },
  {
   "cell_type": "code",
   "execution_count": 129,
   "id": "9c536706",
   "metadata": {},
   "outputs": [],
   "source": [
    "masktweets = bigtweets[mask]"
   ]
  },
  {
   "cell_type": "code",
   "execution_count": 130,
   "id": "539e4211",
   "metadata": {},
   "outputs": [
    {
     "data": {
      "text/plain": [
       "135"
      ]
     },
     "execution_count": 130,
     "metadata": {},
     "output_type": "execute_result"
    }
   ],
   "source": [
    "masktweets.size"
   ]
  },
  {
   "cell_type": "code",
   "execution_count": 131,
   "id": "064a3583",
   "metadata": {},
   "outputs": [],
   "source": [
    "corpus = masktweets.Tweetcontent.values"
   ]
  },
  {
   "cell_type": "code",
   "execution_count": 132,
   "id": "dc095b20",
   "metadata": {},
   "outputs": [],
   "source": [
    "vect = CountVectorizer(max_df=0.90, min_df=3, ngram_range=(1, 2), max_features=2000, stop_words='english')"
   ]
  },
  {
   "cell_type": "code",
   "execution_count": 133,
   "id": "5cd824e5",
   "metadata": {},
   "outputs": [],
   "source": [
    "dtm = vect.fit_transform(corpus)"
   ]
  },
  {
   "cell_type": "code",
   "execution_count": 134,
   "id": "946bd998",
   "metadata": {},
   "outputs": [
    {
     "data": {
      "text/plain": [
       "LatentDirichletAllocation(n_components=5)"
      ]
     },
     "execution_count": 134,
     "metadata": {},
     "output_type": "execute_result"
    }
   ],
   "source": [
    "lda = LatentDirichletAllocation(n_components=5)\n",
    "lda.fit(dtm)"
   ]
  },
  {
   "cell_type": "code",
   "execution_count": 135,
   "id": "466e2d39",
   "metadata": {},
   "outputs": [
    {
     "data": {
      "text/plain": [
       "array([[ 4.19993501,  0.20137392,  0.20000787,  3.19872606,  2.20111267,\n",
       "         2.20278479,  4.36045633,  7.19778816,  5.20375251,  0.20000639,\n",
       "         0.20001556,  0.20248477,  0.2023974 ,  0.20002495,  2.20347434,\n",
       "         0.20000637,  0.20000637,  0.20000767,  0.20000836,  0.20001372,\n",
       "         3.1992132 ,  0.20001854],\n",
       "       [ 0.20000351,  0.20001086,  3.1977095 ,  1.19194782,  0.20000751,\n",
       "         0.20000943, 16.07124644,  0.20000817,  8.19605316,  3.19990918,\n",
       "         0.20245723,  0.20001354,  0.20000971,  1.19638558,  2.20060429,\n",
       "         3.19990906,  3.19990906,  4.19810761,  3.19739937,  0.20000993,\n",
       "         0.20000563,  1.19865101],\n",
       "       [ 0.20000399,  3.19842592,  0.2000066 ,  0.20160496,  2.19874912,\n",
       "         1.19704277, 14.03104798,  0.20206047,  0.20001268,  0.20000529,\n",
       "         1.18364758,  9.19725701,  3.19741568,  2.20328394,  1.19564137,\n",
       "         0.20000526,  0.20000526,  0.20000638,  0.20000701,  2.19371758,\n",
       "         0.2006797 ,  2.2011048 ],\n",
       "       [ 0.20001636,  0.20005416,  1.20220643,  1.20756169,  0.20003702,\n",
       "         0.20004616,  1.337021  ,  0.20004083,  0.20005183,  0.20002254,\n",
       "         2.2137462 ,  0.2000694 ,  0.20005455,  0.20008624,  0.2000914 ,\n",
       "         0.20002272,  0.20002272,  0.20181197,  0.20251314,  1.20613406,\n",
       "         0.20002853,  0.20006748],\n",
       "       [ 0.20004113,  0.20013514,  0.20006959,  0.20015948,  0.20009368,\n",
       "         0.20011685,  0.20022824,  0.20010236,  0.20012982,  0.20005659,\n",
       "         0.20013344,  0.20017528,  0.20012266,  0.20021929,  0.2001886 ,\n",
       "         0.20005659,  0.20005659,  0.20006637,  0.20007213,  0.20012472,\n",
       "         0.20007295,  0.20015816]])"
      ]
     },
     "execution_count": 135,
     "metadata": {},
     "output_type": "execute_result"
    }
   ],
   "source": [
    "# this is a list of how closely each word aligns with each topic\n",
    "lda.components_"
   ]
  },
  {
   "cell_type": "code",
   "execution_count": 136,
   "id": "c7640304",
   "metadata": {},
   "outputs": [],
   "source": [
    "# this will let us view the most important words for each topic, as determined by LDA\n",
    "\n",
    "def display_topics(model, feature_names, no_top_words):\n",
    "    for index, topic in enumerate(model.components_):\n",
    "        print(f\"Topic {index}\")\n",
    "        print(\", \".join([feature_names[i] for i in topic.argsort()[:-no_top_words - 1:-1]]))\n",
    "\n",
    "no_top_words = 15"
   ]
  },
  {
   "cell_type": "code",
   "execution_count": 137,
   "id": "293a7189",
   "metadata": {},
   "outputs": [
    {
     "name": "stdout",
     "output_type": "stream",
     "text": [
      "Topic 0\n",
      "imaginepossible, innovation, https, 5g, space, explore, new, hear, future, innovative, learn, amp, like, working, innovations\n",
      "Topic 1\n",
      "https, innovation, read, innovation https, plantbased innovation, plantbased, based, read https, new, working, like, explore, innovations, innovative, amp\n",
      "Topic 2\n",
      "https, innovative, amp, learn, like, working, future, solutions, hear, new, innovations, imaginepossible, explore, space, innovation\n",
      "Topic 3\n",
      "innovations, https, explore, solutions, based, read https, read, new, like, innovative, working, learn, amp, innovation, hear\n",
      "Topic 4\n",
      "https, like, new, innovative, explore, working, amp, innovations, innovation, solutions, learn, hear, imaginepossible, future, space\n"
     ]
    }
   ],
   "source": [
    "display_topics(lda, vect.get_feature_names(), no_top_words)"
   ]
  },
  {
   "cell_type": "code",
   "execution_count": null,
   "id": "0433b1c2",
   "metadata": {},
   "outputs": [],
   "source": []
  }
 ],
 "metadata": {
  "kernelspec": {
   "display_name": "Python 3",
   "language": "python",
   "name": "python3"
  },
  "language_info": {
   "codemirror_mode": {
    "name": "ipython",
    "version": 3
   },
   "file_extension": ".py",
   "mimetype": "text/x-python",
   "name": "python",
   "nbconvert_exporter": "python",
   "pygments_lexer": "ipython3",
   "version": "3.8.8"
  }
 },
 "nbformat": 4,
 "nbformat_minor": 5
}
